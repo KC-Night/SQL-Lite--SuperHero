{
  "cells": [
    {
      "cell_type": "markdown",
      "metadata": {
        "id": "view-in-github",
        "colab_type": "text"
      },
      "source": [
        "<a href=\"https://colab.research.google.com/github/KC-Night/SQL-Lite--SuperHero/blob/main/Superhero_Assignment.ipynb\" target=\"_parent\"><img src=\"https://colab.research.google.com/assets/colab-badge.svg\" alt=\"Open In Colab\"/></a>"
      ]
    },
    {
      "cell_type": "markdown",
      "id": "5fa8dcf6",
      "metadata": {
        "id": "5fa8dcf6"
      },
      "source": [
        "# Superhero Database Assignment (SQLite & Google Colab)\n",
        "\n",
        "## Objective\n",
        "In this assignment, you will design and implement a **Superhero Database** using SQLite in Google Colab. This database will store superheroes, villains, and their battles. You will write SQL queries to analyze battle outcomes and relationships between heroes and villains.\n",
        "\n",
        "### Group Size:\n",
        "- 2 to 3 students per group.\n",
        "\n",
        "### Tools Required:\n",
        "- **Google Colab**\n",
        "- **SQLite (built into Python)**\n",
        "- **CSV files (provided for import)**"
      ]
    },
    {
      "cell_type": "markdown",
      "id": "5535e625",
      "metadata": {
        "id": "5535e625"
      },
      "source": [
        "## Step 1: Setting Up Your SQLite Database\n",
        "\n",
        "### Tasks:\n",
        "1. Initialize SQLite in Google Colab.\n",
        "2. Create a database named `superhero_db.sqlite`.\n",
        "3. Define the database schema, ensuring it includes the following tables:\n",
        "   - `heroes`: Stores superhero names, powers, and teams.\n",
        "   - `villains`: Stores villains and their evil plans.\n",
        "   - `battles`: Tracks battles between heroes and villains, including the outcome.\n",
        "4. Implement primary keys and foreign keys where appropriate.\n",
        "\n",
        "✅ **Checkpoint:** Ensure that the database and tables have been successfully created."
      ]
    },
    {
      "cell_type": "code",
      "source": [
        "# Initialize SQLite\n",
        "import sqlite3\n",
        "\n",
        "# Create database\n",
        "connection = sqlite3.connect('superhero_db.sqlite')\n",
        "print(\"Database created and connected!\")\n",
        "cursor = connection.cursor()\n",
        "print(\"Cursor created!\")"
      ],
      "metadata": {
        "colab": {
          "base_uri": "https://localhost:8080/"
        },
        "id": "vHHkLpT3CRBn",
        "outputId": "91dcabfe-f53f-4c22-d671-007af626e4a3"
      },
      "id": "vHHkLpT3CRBn",
      "execution_count": 2,
      "outputs": [
        {
          "output_type": "stream",
          "name": "stdout",
          "text": [
            "Database created and connected!\n",
            "Cursor created!\n"
          ]
        }
      ]
    },
    {
      "cell_type": "code",
      "source": [
        "#Heroes table\n",
        "cursor.execute('''\n",
        "CREATE TABLE IF NOT EXISTS heroes (\n",
        "    id INTEGER PRIMARY KEY AUTOINCREMENT,\n",
        "    name TEXT NOT NULL,\n",
        "    power TEXT NOT NULL,\n",
        "    team TEXT NOT NULL\n",
        ")\n",
        "''')\n",
        "\n",
        "print(\"heroes table created!\")"
      ],
      "metadata": {
        "colab": {
          "base_uri": "https://localhost:8080/"
        },
        "id": "9bDVirIXCZ17",
        "outputId": "961d6b9d-4020-436e-b657-b2d2279cd6c7"
      },
      "id": "9bDVirIXCZ17",
      "execution_count": 3,
      "outputs": [
        {
          "output_type": "stream",
          "name": "stdout",
          "text": [
            "heroes table created!\n"
          ]
        }
      ]
    },
    {
      "cell_type": "code",
      "source": [
        "#Villians table\n",
        "cursor.execute('''\n",
        "CREATE TABLE IF NOT EXISTS villains (\n",
        "    id INTEGER PRIMARY KEY AUTOINCREMENT,\n",
        "    name TEXT NOT NULL,\n",
        "    evil_plans TEXT NOT NULL\n",
        ")\n",
        "''')\n",
        "\n",
        "print(\"villians table created!\")"
      ],
      "metadata": {
        "colab": {
          "base_uri": "https://localhost:8080/"
        },
        "id": "FsQ06cf6DKdY",
        "outputId": "d6f7c0e1-b142-459e-f51b-51e0e59efc5a"
      },
      "id": "FsQ06cf6DKdY",
      "execution_count": 4,
      "outputs": [
        {
          "output_type": "stream",
          "name": "stdout",
          "text": [
            "villians table created!\n"
          ]
        }
      ]
    },
    {
      "cell_type": "code",
      "source": [
        "#Battles table\n",
        "cursor.execute('''\n",
        "CREATE TABLE IF NOT EXISTS battles (\n",
        "    id INTEGER PRIMARY KEY AUTOINCREMENT,\n",
        "    hero_id INTEGER NOT NULL,\n",
        "    villian_id INTEGER NOT NULL,\n",
        "    outcome TEXT NOT NULL,\n",
        "    FOREIGN KEY (hero_id) REFERENCES heroes(id),\n",
        "    FOREIGN KEY (villian_id) REFERENCES villains(id)\n",
        ")\n",
        "''')\n",
        "\n",
        "print(\"battles table created!\")"
      ],
      "metadata": {
        "colab": {
          "base_uri": "https://localhost:8080/"
        },
        "id": "j0pnNbhDDQep",
        "outputId": "93a350ac-bc08-4a60-dad4-82b9a0c9dfa6"
      },
      "id": "j0pnNbhDDQep",
      "execution_count": 5,
      "outputs": [
        {
          "output_type": "stream",
          "name": "stdout",
          "text": [
            "battles table created!\n"
          ]
        }
      ]
    },
    {
      "cell_type": "markdown",
      "id": "154b3c3a",
      "metadata": {
        "id": "154b3c3a"
      },
      "source": [
        "## Step 2: Import Data from CSV Files\n",
        "\n",
        "### Tasks:\n",
        "1. Download the provided CSV files.\n",
        "2. Upload them to Google Colab.\n",
        "3. Write a script to import data from these files into the appropriate tables.\n",
        "4. Verify that the data has been successfully inserted.\n",
        "\n",
        "✅ **Checkpoint:** Ensure that each table contains the expected data from the CSV files."
      ]
    },
    {
      "cell_type": "code",
      "source": [
        "import pandas as pd\n",
        "\n",
        "# Read the CSV files into DataFrames\n",
        "heroes_data = pd.read_csv(\"heroes.csv\")\n",
        "villains_data = pd.read_csv('villains.csv')\n",
        "battles_data = pd.read_csv('battles.csv')"
      ],
      "metadata": {
        "id": "bo-2eHfDDZrv"
      },
      "id": "bo-2eHfDDZrv",
      "execution_count": 6,
      "outputs": []
    },
    {
      "cell_type": "code",
      "source": [
        "heroes_data.to_sql('heroes', connection, if_exists='replace', index=False)\n",
        "villains_data.to_sql('villains', connection, if_exists='replace', index=False)\n",
        "battles_data.to_sql('battles', connection, if_exists='replace', index=False)"
      ],
      "metadata": {
        "colab": {
          "base_uri": "https://localhost:8080/"
        },
        "id": "5W2chBq7KkZK",
        "outputId": "1d671ffb-2485-4b41-a316-23452a413406"
      },
      "id": "5W2chBq7KkZK",
      "execution_count": 7,
      "outputs": [
        {
          "output_type": "execute_result",
          "data": {
            "text/plain": [
              "30"
            ]
          },
          "metadata": {},
          "execution_count": 7
        }
      ]
    },
    {
      "cell_type": "code",
      "source": [
        "#Verify data has been inserted\n",
        "cursor.execute(\"SELECT * FROM heroes\")\n",
        "rows = cursor.fetchall()\n",
        "\n",
        "print(\"heroes data:\")\n",
        "for row in rows:\n",
        "    print(row)"
      ],
      "metadata": {
        "colab": {
          "base_uri": "https://localhost:8080/"
        },
        "id": "j_JeIuNwL1vV",
        "outputId": "ab234c98-be13-473f-8dbf-28c90886d60a"
      },
      "id": "j_JeIuNwL1vV",
      "execution_count": 8,
      "outputs": [
        {
          "output_type": "stream",
          "name": "stdout",
          "text": [
            "heroes data:\n",
            "(1, 'Spider-Man', 'Web-slinging', 'Avengers')\n",
            "(2, 'Iron Man', 'Powered Armor', 'Avengers')\n",
            "(3, 'Batman', 'Genius Detective', 'Justice League')\n",
            "(4, 'Superman', 'Super Strength', 'Justice League')\n",
            "(5, 'Thor', 'God of Thunder', 'Avengers')\n",
            "(6, 'Wonder Woman', 'Amazonian Strength', 'Justice League')\n",
            "(7, 'Black Panther', 'Enhanced Agility', 'Avengers')\n",
            "(8, 'The Flash', 'Super Speed', 'Justice League')\n",
            "(9, 'Hulk', 'Super Strength', 'Avengers')\n",
            "(10, 'Doctor Strange', 'Mystic Arts', 'Avengers')\n"
          ]
        }
      ]
    },
    {
      "cell_type": "code",
      "source": [
        "cursor.execute(\"SELECT * FROM villains\")\n",
        "rows = cursor.fetchall()\n",
        "\n",
        "print(\"villains data:\")\n",
        "for row in rows:\n",
        "    print(row)\n"
      ],
      "metadata": {
        "colab": {
          "base_uri": "https://localhost:8080/"
        },
        "collapsed": true,
        "id": "2ckNk9guL-BQ",
        "outputId": "3ec1d9be-be64-4907-d1d5-a139d90de112"
      },
      "id": "2ckNk9guL-BQ",
      "execution_count": 9,
      "outputs": [
        {
          "output_type": "stream",
          "name": "stdout",
          "text": [
            "villains data:\n",
            "(1, 'Green Goblin', 'Terrorize New York')\n",
            "(2, 'Thanos', 'Collect all Infinity Stones')\n",
            "(3, 'Joker', 'Spread chaos in Gotham')\n",
            "(4, 'Lex Luthor', 'Defeat Superman')\n",
            "(5, 'Loki', 'Trick humanity into worshiping him')\n",
            "(6, 'Ultron', 'AI world domination')\n",
            "(7, 'Darkseid', 'Control the universe')\n",
            "(8, 'Venom', 'Consume Spider-Man')\n",
            "(9, 'Magneto', 'Mutant supremacy')\n",
            "(10, 'Red Skull', 'Revive Hydra')\n"
          ]
        }
      ]
    },
    {
      "cell_type": "code",
      "source": [
        "cursor.execute(\"SELECT * FROM battles\")\n",
        "rows = cursor.fetchall()\n",
        "\n",
        "print(\"battles data:\")\n",
        "for row in rows:\n",
        "    print(row)"
      ],
      "metadata": {
        "collapsed": true,
        "colab": {
          "base_uri": "https://localhost:8080/"
        },
        "id": "OZblGDOyMEyh",
        "outputId": "c1df8c9a-5632-4438-b2ed-d8496fe0fb9e"
      },
      "id": "OZblGDOyMEyh",
      "execution_count": 10,
      "outputs": [
        {
          "output_type": "stream",
          "name": "stdout",
          "text": [
            "battles data:\n",
            "(1, 1, 10, 'Villain Wins')\n",
            "(2, 9, 3, 'Hero Wins')\n",
            "(3, 8, 1, 'Draw')\n",
            "(4, 5, 4, 'Villain Wins')\n",
            "(5, 1, 7, 'Hero Wins')\n",
            "(6, 2, 8, 'Villain Wins')\n",
            "(7, 9, 8, 'Hero Wins')\n",
            "(8, 3, 2, 'Hero Wins')\n",
            "(9, 7, 5, 'Hero Wins')\n",
            "(10, 3, 1, 'Draw')\n",
            "(11, 1, 8, 'Villain Wins')\n",
            "(12, 2, 1, 'Draw')\n",
            "(13, 8, 9, 'Hero Wins')\n",
            "(14, 8, 1, 'Draw')\n",
            "(15, 6, 10, 'Draw')\n",
            "(16, 1, 1, 'Villain Wins')\n",
            "(17, 8, 3, 'Draw')\n",
            "(18, 6, 3, 'Villain Wins')\n",
            "(19, 4, 8, 'Villain Wins')\n",
            "(20, 3, 4, 'Hero Wins')\n",
            "(21, 8, 1, 'Draw')\n",
            "(22, 4, 9, 'Draw')\n",
            "(23, 3, 9, 'Draw')\n",
            "(24, 8, 9, 'Villain Wins')\n",
            "(25, 2, 5, 'Draw')\n",
            "(26, 3, 7, 'Draw')\n",
            "(27, 10, 3, 'Draw')\n",
            "(28, 3, 8, 'Draw')\n",
            "(29, 3, 5, 'Hero Wins')\n",
            "(30, 5, 5, 'Hero Wins')\n"
          ]
        }
      ]
    },
    {
      "cell_type": "code",
      "source": [
        "connection.commit()\n",
        "print(\"Changes committed successfully!\")"
      ],
      "metadata": {
        "colab": {
          "base_uri": "https://localhost:8080/"
        },
        "id": "WS0r2-XhLQuB",
        "outputId": "5c13a4d2-9dd4-4a4e-9cc9-dfd7ad03453f"
      },
      "id": "WS0r2-XhLQuB",
      "execution_count": 11,
      "outputs": [
        {
          "output_type": "stream",
          "name": "stdout",
          "text": [
            "Changes committed successfully!\n"
          ]
        }
      ]
    },
    {
      "cell_type": "markdown",
      "id": "33548d9f",
      "metadata": {
        "id": "33548d9f"
      },
      "source": [
        "## Step 3: Querying the Database\n",
        "\n",
        "### Tasks:\n",
        "Write SQL queries to answer the following:\n",
        "1. Retrieve all superheroes and their powers.\n",
        "2. Find all battles where the hero won.\n",
        "3. List all villains and their evil plans.\n",
        "4. Determine which superhero has fought the most battles.\n",
        "\n",
        "✅ **Checkpoint:** Ensure that all queries return meaningful results from the database."
      ]
    },
    {
      "cell_type": "code",
      "source": [
        "#Retrieve superheroes and powers\n",
        "cursor.execute(\"SELECT name, power FROM heroes\")\n",
        "heroes_data = cursor.fetchall()\n",
        "\n",
        "print(\"Heroes data:\")\n",
        "for hero in heroes_data:\n",
        "    print(f\"Name: {hero[0]}, Power: {hero[1]}\")"
      ],
      "metadata": {
        "colab": {
          "base_uri": "https://localhost:8080/"
        },
        "id": "8qwmEUWQMO-v",
        "outputId": "0150b4f9-4e1a-4ea1-fa12-f883612cf09b"
      },
      "id": "8qwmEUWQMO-v",
      "execution_count": 12,
      "outputs": [
        {
          "output_type": "stream",
          "name": "stdout",
          "text": [
            "Heroes data:\n",
            "Name: Spider-Man, Power: Web-slinging\n",
            "Name: Iron Man, Power: Powered Armor\n",
            "Name: Batman, Power: Genius Detective\n",
            "Name: Superman, Power: Super Strength\n",
            "Name: Thor, Power: God of Thunder\n",
            "Name: Wonder Woman, Power: Amazonian Strength\n",
            "Name: Black Panther, Power: Enhanced Agility\n",
            "Name: The Flash, Power: Super Speed\n",
            "Name: Hulk, Power: Super Strength\n",
            "Name: Doctor Strange, Power: Mystic Arts\n"
          ]
        }
      ]
    },
    {
      "cell_type": "code",
      "source": [
        "#Battles where heroes won\n",
        "cursor.execute(\"SELECT * FROM battles WHERE outcome = 'Hero Wins'\")\n",
        "rows = cursor.fetchall()\n",
        "\n",
        "print(\"Battles data:\")\n",
        "for row in rows:\n",
        "    print(f\"Battle ID: {row[0]}, Outcome: {row[3]}\")"
      ],
      "metadata": {
        "colab": {
          "base_uri": "https://localhost:8080/"
        },
        "id": "4ZQ76BEBMlGl",
        "outputId": "755695d8-2be6-45fd-91cf-e903916a8a0d"
      },
      "id": "4ZQ76BEBMlGl",
      "execution_count": 13,
      "outputs": [
        {
          "output_type": "stream",
          "name": "stdout",
          "text": [
            "Battles data:\n",
            "Battle ID: 2, Outcome: Hero Wins\n",
            "Battle ID: 5, Outcome: Hero Wins\n",
            "Battle ID: 7, Outcome: Hero Wins\n",
            "Battle ID: 8, Outcome: Hero Wins\n",
            "Battle ID: 9, Outcome: Hero Wins\n",
            "Battle ID: 13, Outcome: Hero Wins\n",
            "Battle ID: 20, Outcome: Hero Wins\n",
            "Battle ID: 29, Outcome: Hero Wins\n",
            "Battle ID: 30, Outcome: Hero Wins\n"
          ]
        }
      ]
    },
    {
      "cell_type": "code",
      "source": [
        "#List of all villians and evil plans\n",
        "cursor.execute(\"SELECT * FROM villains\")\n",
        "rows = cursor.fetchall()\n",
        "\n",
        "print(\"villains data:\")\n",
        "for row in rows:\n",
        "    print(row)"
      ],
      "metadata": {
        "colab": {
          "base_uri": "https://localhost:8080/"
        },
        "id": "QSn-MfxZM7jh",
        "outputId": "7922eb70-27cd-478c-9c42-d6a54897b108"
      },
      "id": "QSn-MfxZM7jh",
      "execution_count": 14,
      "outputs": [
        {
          "output_type": "stream",
          "name": "stdout",
          "text": [
            "villains data:\n",
            "(1, 'Green Goblin', 'Terrorize New York')\n",
            "(2, 'Thanos', 'Collect all Infinity Stones')\n",
            "(3, 'Joker', 'Spread chaos in Gotham')\n",
            "(4, 'Lex Luthor', 'Defeat Superman')\n",
            "(5, 'Loki', 'Trick humanity into worshiping him')\n",
            "(6, 'Ultron', 'AI world domination')\n",
            "(7, 'Darkseid', 'Control the universe')\n",
            "(8, 'Venom', 'Consume Spider-Man')\n",
            "(9, 'Magneto', 'Mutant supremacy')\n",
            "(10, 'Red Skull', 'Revive Hydra')\n"
          ]
        }
      ]
    },
    {
      "cell_type": "code",
      "source": [
        "#Determine which superhero has fought the most battles\n",
        "cursor.execute(\"\"\"\n",
        "    SELECT hero_id, COUNT(*) as battle_count\n",
        "    FROM battles\n",
        "    GROUP BY hero_id\n",
        "    ORDER BY battle_count DESC\n",
        "    LIMIT 1\n",
        "\"\"\")\n",
        "\n",
        "most_battles = cursor.fetchone()\n",
        "\n",
        "if most_battles:\n",
        "    print(f\"Hero ID who fought the most battles: {most_battles[0]} (Total Battles: {most_battles[1]})\")\n",
        "else:\n",
        "    print(\"No battle data found.\")"
      ],
      "metadata": {
        "colab": {
          "base_uri": "https://localhost:8080/"
        },
        "id": "tF38kWg1NGzM",
        "outputId": "4fffdc2c-2e5b-462d-ac91-f8f97eb0c5e1"
      },
      "id": "tF38kWg1NGzM",
      "execution_count": 15,
      "outputs": [
        {
          "output_type": "stream",
          "name": "stdout",
          "text": [
            "Hero ID who fought the most battles: 3 (Total Battles: 7)\n"
          ]
        }
      ]
    },
    {
      "cell_type": "markdown",
      "id": "de8bda94",
      "metadata": {
        "id": "de8bda94"
      },
      "source": [
        "## Step 4: Add a Custom Feature\n",
        "\n",
        "### Tasks:\n",
        "1. Design and implement an additional table related to superheroes or villains.\n",
        "2. Populate it with data.\n",
        "3. Write at least one query to retrieve meaningful insights from the new table.\n",
        "\n",
        "**Examples of Custom Features:**\n",
        "- Sidekicks for superheroes\n",
        "- Villain hideouts\n",
        "- Battle locations\n",
        "- Superhero equipment\n",
        "\n",
        "✅ **Checkpoint:** Ensure that the new table and queries function correctly."
      ]
    },
    {
      "cell_type": "code",
      "source": [
        "#Design table, implement table, populate it with data\n",
        "cursor.execute(\"\"\"\n",
        "    CREATE TABLE IF NOT EXISTS comic_company (\n",
        "        id INTEGER PRIMARY KEY AUTOINCREMENT,\n",
        "        name TEXT NOT NULL,\n",
        "        company TEXT NOT NULL\n",
        "    )\n",
        "\"\"\");\n",
        "\n",
        "comic_company= [\n",
        "  ('Spider-Man', 'Marvel'),\n",
        "  ('Iron Man', 'Marvel'),\n",
        "  ('Batman', 'DC'),\n",
        "  ('Superman', 'DC'),\n",
        "  ('Thor', 'Marvel'),\n",
        "  ('Wonder Woman', 'DC'),\n",
        "  ('Black Panther', 'Marvel'),\n",
        "  ('Flash', 'DC'),\n",
        "  ('Hulk', 'Marvel'),\n",
        "  ('Doctor Strange', 'Marvel'),\n",
        "]\n",
        "\n",
        "cursor.executemany(\"INSERT INTO comic_company (name, company) VALUES (?, ?)\", comic_company)"
      ],
      "metadata": {
        "colab": {
          "base_uri": "https://localhost:8080/"
        },
        "id": "01YNnePPB_cN",
        "outputId": "c54625a2-8183-4641-ef70-abfa525bbd69"
      },
      "id": "01YNnePPB_cN",
      "execution_count": 16,
      "outputs": [
        {
          "output_type": "execute_result",
          "data": {
            "text/plain": [
              "<sqlite3.Cursor at 0x79c5930758c0>"
            ]
          },
          "metadata": {},
          "execution_count": 16
        }
      ]
    },
    {
      "cell_type": "code",
      "source": [
        "#Query\n",
        "cursor.execute(\"SELECT * FROM comic_company WHERE company = 'Marvel'\")\n",
        "rows = cursor.fetchall()\n",
        "\n",
        "print(\"Comic_company data:\")\n",
        "for row in rows:\n",
        "    print(f\"Name: {row[1]}, Company: {row[2]}\")"
      ],
      "metadata": {
        "colab": {
          "base_uri": "https://localhost:8080/"
        },
        "id": "lsMGUcLsGfUt",
        "outputId": "d872f6a0-a3ea-4d0e-fdf9-63dde5cdb9b9"
      },
      "id": "lsMGUcLsGfUt",
      "execution_count": 17,
      "outputs": [
        {
          "output_type": "stream",
          "name": "stdout",
          "text": [
            "Comic_company data:\n",
            "Name: Spider-Man, Company: Marvel\n",
            "Name: Iron Man, Company: Marvel\n",
            "Name: Thor, Company: Marvel\n",
            "Name: Black Panther, Company: Marvel\n",
            "Name: Hulk, Company: Marvel\n",
            "Name: Doctor Strange, Company: Marvel\n"
          ]
        }
      ]
    },
    {
      "cell_type": "code",
      "source": [
        "#Test table\n",
        "cursor.execute(\"SELECT * FROM comic_company\")\n",
        "rows = cursor.fetchall()\n",
        "\n",
        "print(\"Comic_company Table Data:\")\n",
        "for row in rows:\n",
        "    print(row)\n",
        "\n",
        "cursor.execute (\"\"\"\n",
        "    DROP TABLE IF EXISTS comic_company\n",
        "\"\"\");"
      ],
      "metadata": {
        "colab": {
          "base_uri": "https://localhost:8080/"
        },
        "id": "vZG-FtqaD54I",
        "outputId": "0acf6aa9-4092-4d4d-cd70-5f1e64710afc"
      },
      "id": "vZG-FtqaD54I",
      "execution_count": 18,
      "outputs": [
        {
          "output_type": "stream",
          "name": "stdout",
          "text": [
            "Comic_company Table Data:\n",
            "(1, 'Spider-Man', 'Marvel')\n",
            "(2, 'Iron Man', 'Marvel')\n",
            "(3, 'Batman', 'DC')\n",
            "(4, 'Superman', 'DC')\n",
            "(5, 'Thor', 'Marvel')\n",
            "(6, 'Wonder Woman', 'DC')\n",
            "(7, 'Black Panther', 'Marvel')\n",
            "(8, 'Flash', 'DC')\n",
            "(9, 'Hulk', 'Marvel')\n",
            "(10, 'Doctor Strange', 'Marvel')\n"
          ]
        }
      ]
    },
    {
      "cell_type": "markdown",
      "id": "9bf43fe6",
      "metadata": {
        "id": "9bf43fe6"
      },
      "source": [
        "## Bonus Challenge (+5 Points)\n",
        "\n",
        "### Tasks:\n",
        "1. Enhance your project by adding a visual or interactive component.\n",
        "\n",
        "**Options:**\n",
        "- Visualize battles using Matplotlib (e.g., a bar chart showing how many battles each superhero has fought).\n",
        "- Make it interactive (e.g., allow users to input a superhero name and display their battles).\n",
        "\n",
        "✅ **Checkpoint:** If attempting the bonus, ensure that your visualization or interactive component works correctly."
      ]
    },
    {
      "cell_type": "code",
      "source": [
        "import matplotlib.pyplot as plt\n",
        "\n",
        "cursor.execute(\"\"\"\n",
        "    SELECT heroes.name, COUNT(battles.id) as battle_count\n",
        "    FROM battles\n",
        "    JOIN heroes ON battles.hero_id = heroes.id\n",
        "    GROUP BY heroes.name\n",
        "    ORDER BY battle_count DESC\n",
        "\"\"\")\n",
        "\n",
        "battle_data = cursor.fetchall()\n",
        "\n",
        "hero_names = [row[0] for row in battle_data]\n",
        "battles = [row[1] for row in battle_data]\n",
        "\n",
        "plt.figure(figsize = (10, 6))\n",
        "plt.bar(hero_names, battles, color = 'blue')\n",
        "plt.xlabel('Superheroes')\n",
        "plt.ylabel('Number of Battles')\n",
        "plt.title('Battles Fought by Each Superhero')\n",
        "plt.xticks(rotation = 45)\n",
        "plt.show()"
      ],
      "metadata": {
        "colab": {
          "base_uri": "https://localhost:8080/",
          "height": 638
        },
        "id": "Lm2MW43FleLH",
        "outputId": "f9cac161-8fbb-4e1e-faaa-94fbc2a51d97"
      },
      "id": "Lm2MW43FleLH",
      "execution_count": 19,
      "outputs": [
        {
          "output_type": "display_data",
          "data": {
            "text/plain": [
              "<Figure size 1000x600 with 1 Axes>"
            ],
            "image/png": "[encoded data removed]"
          },
          "metadata": {}
        }
      ]
    },
    {
      "cell_type": "markdown",
      "id": "89f56c05",
      "metadata": {
        "id": "89f56c05"
      },
      "source": [
        "## Submission Guidelines\n",
        "\n",
        "Each group must submit a **Google Colab Notebook (.ipynb)** containing:\n",
        "- ✅ **Database schema (DDL)**\n",
        "- ✅ **CSV imports & data insertion (DML)**\n",
        "- ✅ **SQL queries & results**\n",
        "- ✅ **Custom feature (bonus if applicable)**"
      ]
    },
    {
      "cell_type": "markdown",
      "id": "61477c9b",
      "metadata": {
        "id": "61477c9b"
      },
      "source": [
        "## Grading Criteria (Total: 25 Points)\n",
        "\n",
        "| Section                 | Points |\n",
        "|-------------------------|--------|\n",
        "| Database Setup          | 5      |\n",
        "| Data Importing         | 10     |\n",
        "| Querying the Data      | 10     |\n",
        "| Extra Feature          | 5      |\n",
        "| Bonus Challenge (Optional) | +5  |"
      ]
    },
    {
      "cell_type": "markdown",
      "id": "92bf6839",
      "metadata": {
        "id": "92bf6839"
      },
      "source": [
        "### Final Notes:\n",
        "- Be **creative** when designing superheroes and villains.\n",
        "- **Comment your code** to explain its functionality.\n",
        "- **Have fun** building your superhero universe!"
      ]
    }
  ],
  "metadata": {
    "colab": {
      "provenance": [],
      "include_colab_link": true
    },
    "language_info": {
      "name": "python"
    },
    "kernelspec": {
      "name": "python3",
      "display_name": "Python 3"
    }
  },
  "nbformat": 4,
  "nbformat_minor": 5
}